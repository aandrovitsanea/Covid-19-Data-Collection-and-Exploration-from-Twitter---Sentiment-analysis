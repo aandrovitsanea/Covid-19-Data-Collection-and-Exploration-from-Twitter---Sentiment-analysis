{
 "cells": [
  {
   "cell_type": "markdown",
   "metadata": {},
   "source": [
    "**<span style=\"font-family:KerkisSans; font-size:2.5em; color: red;\">Data Collection and Exploration from</span>** **<span style=\"font-family:KerkisSans; font-size:2.5em; color: blue;\">Twitter</span>**\n",
    "\n",
    "<span style=\"font-family:KerkisSans; font-size:1.5em; color: black\">Anna Androvitsanea</span>\n",
    "\n",
    "<span style=\"font-family:KerkisSans; font-size:1.5em; color: black\">anna.androvitsanea@gmail.com</span>"
   ]
  },
  {
   "cell_type": "markdown",
   "metadata": {},
   "source": [
    "# Creation of a Twitter app"
   ]
  },
  {
   "cell_type": "markdown",
   "metadata": {
    "collapsed": true
   },
   "source": [
    "---\n",
    "The app created is called ** streaming_twitts** .\n",
    "\n",
    "First I install tweepy via a terminal with the command <code>pip install tweepy</code>\n",
    "\n",
    "---"
   ]
  },
  {
   "cell_type": "code",
   "execution_count": 1,
   "metadata": {
    "collapsed": true
   },
   "outputs": [],
   "source": [
    "# Import libraries needed for this app\n",
    "\n",
    "import tweepy\n",
    "from twitter_config import config\n",
    "import math\n",
    "import pandas as pd\n",
    "import matplotlib.pyplot as plt\n",
    "import matplotlib"
   ]
  },
  {
   "cell_type": "code",
   "execution_count": 2,
   "metadata": {},
   "outputs": [
    {
     "data": {
      "text/plain": [
       "User(_api=<tweepy.api.API object at 0x7f8b2c798048>, _json={'id': 16936087, 'id_str': '16936087', 'name': 'mezcla', 'screen_name': 'mezcla', 'location': '', 'profile_location': None, 'description': '', 'url': None, 'entities': {'description': {'urls': []}}, 'protected': False, 'followers_count': 1, 'friends_count': 1, 'listed_count': 0, 'created_at': 'Thu Oct 23 21:31:52 +0000 2008', 'favourites_count': 0, 'utc_offset': None, 'time_zone': None, 'geo_enabled': False, 'verified': False, 'statuses_count': 3, 'lang': None, 'status': {'created_at': 'Sun Aug 21 03:08:49 +0000 2011', 'id': 105114101524594688, 'id_str': '105114101524594688', 'text': 'check this out! I made $390 today so far http://t.co/rPcZhVl', 'truncated': False, 'entities': {'hashtags': [], 'symbols': [], 'user_mentions': [], 'urls': [{'url': 'http://t.co/rPcZhVl', 'expanded_url': 'http://goo.gl/xB9RA?fobux', 'display_url': 'goo.gl/xB9RA?fobux', 'indices': [41, 60]}]}, 'source': '<a href=\"http://mobile.twitter.com\" rel=\"nofollow\">Mobile Web</a>', 'in_reply_to_status_id': None, 'in_reply_to_status_id_str': None, 'in_reply_to_user_id': None, 'in_reply_to_user_id_str': None, 'in_reply_to_screen_name': None, 'geo': None, 'coordinates': None, 'place': None, 'contributors': None, 'is_quote_status': False, 'retweet_count': 0, 'favorite_count': 0, 'favorited': False, 'retweeted': False, 'possibly_sensitive': False, 'lang': 'en'}, 'contributors_enabled': False, 'is_translator': False, 'is_translation_enabled': False, 'profile_background_color': '1A1B1F', 'profile_background_image_url': 'http://abs.twimg.com/images/themes/theme9/bg.gif', 'profile_background_image_url_https': 'https://abs.twimg.com/images/themes/theme9/bg.gif', 'profile_background_tile': False, 'profile_image_url': 'http://pbs.twimg.com/profile_images/62713388/pirata_normal.png', 'profile_image_url_https': 'https://pbs.twimg.com/profile_images/62713388/pirata_normal.png', 'profile_link_color': '2FC2EF', 'profile_sidebar_border_color': '181A1E', 'profile_sidebar_fill_color': '252429', 'profile_text_color': '666666', 'profile_use_background_image': True, 'has_extended_profile': False, 'default_profile': False, 'default_profile_image': False, 'following': False, 'follow_request_sent': False, 'notifications': False, 'translator_type': 'none'}, id=16936087, id_str='16936087', name='mezcla', screen_name='mezcla', location='', profile_location=None, description='', url=None, entities={'description': {'urls': []}}, protected=False, followers_count=1, friends_count=1, listed_count=0, created_at=datetime.datetime(2008, 10, 23, 21, 31, 52), favourites_count=0, utc_offset=None, time_zone=None, geo_enabled=False, verified=False, statuses_count=3, lang=None, status=Status(_api=<tweepy.api.API object at 0x7f8b2c798048>, _json={'created_at': 'Sun Aug 21 03:08:49 +0000 2011', 'id': 105114101524594688, 'id_str': '105114101524594688', 'text': 'check this out! I made $390 today so far http://t.co/rPcZhVl', 'truncated': False, 'entities': {'hashtags': [], 'symbols': [], 'user_mentions': [], 'urls': [{'url': 'http://t.co/rPcZhVl', 'expanded_url': 'http://goo.gl/xB9RA?fobux', 'display_url': 'goo.gl/xB9RA?fobux', 'indices': [41, 60]}]}, 'source': '<a href=\"http://mobile.twitter.com\" rel=\"nofollow\">Mobile Web</a>', 'in_reply_to_status_id': None, 'in_reply_to_status_id_str': None, 'in_reply_to_user_id': None, 'in_reply_to_user_id_str': None, 'in_reply_to_screen_name': None, 'geo': None, 'coordinates': None, 'place': None, 'contributors': None, 'is_quote_status': False, 'retweet_count': 0, 'favorite_count': 0, 'favorited': False, 'retweeted': False, 'possibly_sensitive': False, 'lang': 'en'}, created_at=datetime.datetime(2011, 8, 21, 3, 8, 49), id=105114101524594688, id_str='105114101524594688', text='check this out! I made $390 today so far http://t.co/rPcZhVl', truncated=False, entities={'hashtags': [], 'symbols': [], 'user_mentions': [], 'urls': [{'url': 'http://t.co/rPcZhVl', 'expanded_url': 'http://goo.gl/xB9RA?fobux', 'display_url': 'goo.gl/xB9RA?fobux', 'indices': [41, 60]}]}, source='Mobile Web', source_url='http://mobile.twitter.com', in_reply_to_status_id=None, in_reply_to_status_id_str=None, in_reply_to_user_id=None, in_reply_to_user_id_str=None, in_reply_to_screen_name=None, geo=None, coordinates=None, place=None, contributors=None, is_quote_status=False, retweet_count=0, favorite_count=0, favorited=False, retweeted=False, possibly_sensitive=False, lang='en'), contributors_enabled=False, is_translator=False, is_translation_enabled=False, profile_background_color='1A1B1F', profile_background_image_url='http://abs.twimg.com/images/themes/theme9/bg.gif', profile_background_image_url_https='https://abs.twimg.com/images/themes/theme9/bg.gif', profile_background_tile=False, profile_image_url='http://pbs.twimg.com/profile_images/62713388/pirata_normal.png', profile_image_url_https='https://pbs.twimg.com/profile_images/62713388/pirata_normal.png', profile_link_color='2FC2EF', profile_sidebar_border_color='181A1E', profile_sidebar_fill_color='252429', profile_text_color='666666', profile_use_background_image=True, has_extended_profile=False, default_profile=False, default_profile_image=False, following=False, follow_request_sent=False, notifications=False, translator_type='none')"
      ]
     },
     "execution_count": 2,
     "metadata": {},
     "output_type": "execute_result"
    }
   ],
   "source": [
    "# Here I login to the app with my credentials\n",
    "\n",
    "auth = tweepy.OAuthHandler(config['api_key'], \n",
    "                           config['api_secret_key'])\n",
    "auth.set_access_token(config['access_token'], \n",
    "                      config['access_token_secret'])\n",
    "\n",
    "api = tweepy.API(auth)\n",
    "\n",
    "api.get_user(screen_name='mezcla')"
   ]
  },
  {
   "cell_type": "markdown",
   "metadata": {},
   "source": [
    "## Collection of data by building a stream\n",
    "* Creation of a stream listener.\n",
    "* Monitor of COVID-19 related terms. \n",
    "* Collection of 50k statuses."
   ]
  },
  {
   "cell_type": "code",
   "execution_count": 3,
   "metadata": {
    "collapsed": true
   },
   "outputs": [],
   "source": [
    "terms = ['covid19', '#ncov2019', 'Covid_19', '#conronaviruspandemic', 'COVID-19', '#caronavirus', \n",
    "         '#infocoronavirus', 'coronavirusupdate', 'carona virus', '#coronavirues', '#Coronovirus', \n",
    "         '#2019nCoV', '#Coronvirus', '#Coronavirus', 'covid-19', 'Coronavirus', '#caronavirusoutbreak', \n",
    "         'covid', '#CoronaVirusUpdate', '#Corvid19virus', '#covid', 'coronavirus', '#CoronaVirus', 'nCoV', \n",
    "         'covid 19', '#nCoV2019', '#covid_19', '#coronavirusupdates', '#COVIDー19', '#2019nCov', '#CoronaAlert', \n",
    "         '#coronavirus', 'SARS-CoV-2', '#nCoV', '#coronanews', '#COVID', '2019nCoV', '#CoronavirusOutbreak', \n",
    "         '#coronapocolypse', '#COVID19', '#codvid19', '#codvid_19', 'coronavirus outbreak']"
   ]
  },
  {
   "cell_type": "code",
   "execution_count": null,
   "metadata": {
    "collapsed": true
   },
   "outputs": [],
   "source": [
    "# Create a class inheriting from StreamListener\n",
    "\n",
    "class StreamLimitReached(Exception):\n",
    "    pass\n",
    "\n",
    "def row_of_status(s):\n",
    "    import json\n",
    "    # Return the requested attributes\n",
    "    return [s.created_at, s.place, s.lang, s.text, s.user.screen_name, s.user.followers_count, s.user.statuses_count, s.user.location]\n",
    "\n",
    "# Implement a listener with on_status()\n",
    "class MyListener(tweepy.StreamListener):\n",
    "    def __init__(self, limit, tweets):\n",
    "        super(MyListener, self).__init__()\n",
    "        self._max_tweets = limit\n",
    "        self._number_of_tweets = 0\n",
    "        self._tweets = tweets\n",
    "    def on_status(self, status):\n",
    "        self._tweets.append(row_of_status(status))\n",
    "        self._number_of_tweets += 1\n",
    "        if self._number_of_tweets >= self._max_tweets:\n",
    "            raise StreamLimitReached()            \n",
    "        \n",
    "# Create the Stream downloading 50000 tweets\n",
    "\n",
    "tweets = [] # list\n",
    "my_listener = MyListener(50000, tweets) # apply the thresshold\n",
    "my_streaming_twitts = tweepy.Stream(auth = api.auth, listener=my_listener)\n",
    "\n",
    "   \n",
    "# Start tracking terms by implementing the stream\n",
    "\n",
    "try:\n",
    "    my_streaming_twitts.filter(track=terms)\n",
    "except StreamLimitReached:\n",
    "    pass\n",
    "\n",
    "# Save the streamed tweets in a dataframe\n",
    "\n",
    "covid_tweets = pd.DataFrame(tweets, columns=['created_at','place','lang','text','screen_name', 'followers_count', 'statuses_count', 'location'])\n",
    "\n",
    "# Save the dataframe to a csv in order to load it\n",
    "# in case the notebook is turned off\n",
    "covid_tweets.to_csv(\"covid_tweets.csv\", header = True, sep = \";\")\n",
    "\n",
    "# Print head of the dataframe\n",
    "covid_tweets.head(10)"
   ]
  },
  {
   "cell_type": "markdown",
   "metadata": {},
   "source": [
    "## Data Management\n",
    "* Store collected tweets in a dataframe.\n",
    "* Keep only the following attributes: `created_at`, `place`, `lang`, `text`, `screen_name`, `followers_count`, `statuses_count`, and `location` of the `user`, Ds columns of the dataframe."
   ]
  },
  {
   "cell_type": "code",
   "execution_count": 4,
   "metadata": {
    "collapsed": true
   },
   "outputs": [],
   "source": [
    "# Import the csv file in order to work with the data\n",
    "\n",
    "covid_tweets = pd.read_csv(\"covid_tweets.csv\", parse_dates = True, sep = \";\")"
   ]
  },
  {
   "cell_type": "code",
   "execution_count": 5,
   "metadata": {},
   "outputs": [
    {
     "data": {
      "text/plain": [
       "Index(['Unnamed: 0', 'created_at', 'place', 'lang', 'text', 'screen_name',\n",
       "       'followers_count', 'statuses_count', 'location'],\n",
       "      dtype='object')"
      ]
     },
     "execution_count": 5,
     "metadata": {},
     "output_type": "execute_result"
    }
   ],
   "source": [
    "# The dataframe created at step (b) is stored under the name covid_tweets\n",
    "# I check the columns names\n",
    "\n",
    "covid_tweets.columns"
   ]
  },
  {
   "cell_type": "code",
   "execution_count": 6,
   "metadata": {
    "collapsed": true
   },
   "outputs": [],
   "source": [
    "# Index of the original dataframe is saved a columns.\n",
    "# Drop the Unnamed columns\n",
    "\n",
    "covid_tweets = covid_tweets.drop('Unnamed: 0', axis = 1)"
   ]
  },
  {
   "cell_type": "code",
   "execution_count": 7,
   "metadata": {
    "collapsed": true
   },
   "outputs": [],
   "source": [
    "# We ensure that the dates is of the type datetime\n",
    "\n",
    "covid_tweets.created_at = pd.to_datetime(covid_tweets.created_at)"
   ]
  },
  {
   "cell_type": "code",
   "execution_count": 8,
   "metadata": {},
   "outputs": [
    {
     "data": {
      "text/plain": [
       "created_at         datetime64[ns]\n",
       "place                      object\n",
       "lang                       object\n",
       "text                       object\n",
       "screen_name                object\n",
       "followers_count             int64\n",
       "statuses_count              int64\n",
       "location                   object\n",
       "dtype: object"
      ]
     },
     "execution_count": 8,
     "metadata": {},
     "output_type": "execute_result"
    }
   ],
   "source": [
    "# We check the type\n",
    "\n",
    "covid_tweets.dtypes"
   ]
  },
  {
   "cell_type": "markdown",
   "metadata": {},
   "source": [
    "# Exploratory data analysis"
   ]
  },
  {
   "cell_type": "code",
   "execution_count": 9,
   "metadata": {},
   "outputs": [
    {
     "name": "stdout",
     "output_type": "stream",
     "text": [
      "The number of unique users is 38972 .\n"
     ]
    }
   ],
   "source": [
    "# Report the number of unique: users\n",
    "\n",
    "print(\"The number of unique users is\", len(pd.unique(covid_tweets.screen_name)), \".\")"
   ]
  },
  {
   "cell_type": "code",
   "execution_count": 10,
   "metadata": {},
   "outputs": [
    {
     "name": "stdout",
     "output_type": "stream",
     "text": [
      "The number of unique locations is 13240 .\n"
     ]
    }
   ],
   "source": [
    "# Report the number of unique: locations\n",
    "\n",
    "print(\"The number of unique locations is\", len(pd.unique(covid_tweets.location)), \".\")"
   ]
  },
  {
   "cell_type": "code",
   "execution_count": 11,
   "metadata": {},
   "outputs": [
    {
     "name": "stdout",
     "output_type": "stream",
     "text": [
      "The number of unique users mentioned within the tweets is 14920 .\n"
     ]
    }
   ],
   "source": [
    "# Report the number of unique: users mentioned within the tweets\n",
    "\n",
    "# First we must extract from the text the users per tweet and \n",
    "\n",
    "import re\n",
    "\n",
    "patt = r'@([A-Za-z0-9_]{1,15})'\n",
    "regex = re.compile(patt)\n",
    "\n",
    "# Then we implement the function that calculates the count of unique users mentioned. \n",
    "\n",
    "mentions = set()\n",
    "for _, text in covid_tweets.text.iteritems():\n",
    "    mentions |= set(regex.findall(text))\n",
    "    \n",
    "print(\"The number of unique users mentioned within the tweets is\", len(pd.unique(mentions)), \".\")"
   ]
  },
  {
   "cell_type": "code",
   "execution_count": 12,
   "metadata": {},
   "outputs": [
    {
     "name": "stdout",
     "output_type": "stream",
     "text": [
      "100.0 % tweets had their place attribute empty\n"
     ]
    }
   ],
   "source": [
    "# How many tweets (%) had their place attribute empty\n",
    "\n",
    "no_place_perc = (len(covid_tweets.place == \"None\")/len(covid_tweets))*100\n",
    "print(no_place_perc, \"% tweets had their place attribute empty\")"
   ]
  },
  {
   "cell_type": "markdown",
   "metadata": {},
   "source": [
    "* Plot the distribution of languages (barplot).\n"
   ]
  },
  {
   "cell_type": "code",
   "execution_count": 13,
   "metadata": {
    "collapsed": true
   },
   "outputs": [],
   "source": [
    "# Create a dataframe with the languages and the number of occurences\n",
    "\n",
    "covid_tweets_lang = covid_tweets.groupby(['lang']).size().to_frame('count').reset_index()"
   ]
  },
  {
   "cell_type": "code",
   "execution_count": 14,
   "metadata": {
    "scrolled": true
   },
   "outputs": [
    {
     "data": {
      "text/plain": [
       "pandas.core.frame.DataFrame"
      ]
     },
     "execution_count": 14,
     "metadata": {},
     "output_type": "execute_result"
    }
   ],
   "source": [
    "# Check type of element created\n",
    "\n",
    "type(covid_tweets_lang)"
   ]
  },
  {
   "cell_type": "code",
   "execution_count": 15,
   "metadata": {},
   "outputs": [
    {
     "data": {
      "text/html": [
       "<div>\n",
       "<table border=\"1\" class=\"dataframe\">\n",
       "  <thead>\n",
       "    <tr style=\"text-align: right;\">\n",
       "      <th></th>\n",
       "      <th>lang</th>\n",
       "      <th>count</th>\n",
       "    </tr>\n",
       "  </thead>\n",
       "  <tbody>\n",
       "    <tr>\n",
       "      <th>0</th>\n",
       "      <td>ar</td>\n",
       "      <td>46</td>\n",
       "    </tr>\n",
       "    <tr>\n",
       "      <th>1</th>\n",
       "      <td>bg</td>\n",
       "      <td>3</td>\n",
       "    </tr>\n",
       "    <tr>\n",
       "      <th>2</th>\n",
       "      <td>bn</td>\n",
       "      <td>7</td>\n",
       "    </tr>\n",
       "    <tr>\n",
       "      <th>3</th>\n",
       "      <td>ca</td>\n",
       "      <td>746</td>\n",
       "    </tr>\n",
       "    <tr>\n",
       "      <th>4</th>\n",
       "      <td>cs</td>\n",
       "      <td>68</td>\n",
       "    </tr>\n",
       "  </tbody>\n",
       "</table>\n",
       "</div>"
      ],
      "text/plain": [
       "  lang  count\n",
       "0   ar     46\n",
       "1   bg      3\n",
       "2   bn      7\n",
       "3   ca    746\n",
       "4   cs     68"
      ]
     },
     "execution_count": 15,
     "metadata": {},
     "output_type": "execute_result"
    }
   ],
   "source": [
    "# View an instance of the data\n",
    "\n",
    "covid_tweets_lang.head()"
   ]
  },
  {
   "cell_type": "code",
   "execution_count": 16,
   "metadata": {
    "scrolled": false
   },
   "outputs": [
    {
     "data": {
      "text/html": [
       "<div>\n",
       "<table border=\"1\" class=\"dataframe\">\n",
       "  <thead>\n",
       "    <tr style=\"text-align: right;\">\n",
       "      <th></th>\n",
       "      <th>count</th>\n",
       "    </tr>\n",
       "    <tr>\n",
       "      <th>lang</th>\n",
       "      <th></th>\n",
       "    </tr>\n",
       "  </thead>\n",
       "  <tbody>\n",
       "    <tr>\n",
       "      <th>ar</th>\n",
       "      <td>46</td>\n",
       "    </tr>\n",
       "    <tr>\n",
       "      <th>bg</th>\n",
       "      <td>3</td>\n",
       "    </tr>\n",
       "  </tbody>\n",
       "</table>\n",
       "</div>"
      ],
      "text/plain": [
       "      count\n",
       "lang       \n",
       "ar       46\n",
       "bg        3"
      ]
     },
     "execution_count": 16,
     "metadata": {},
     "output_type": "execute_result"
    }
   ],
   "source": [
    "# Set language as index for the dataframe\n",
    "\n",
    "covid_tweets_lang_indexed = covid_tweets_lang.set_index('lang')\n",
    "covid_tweets_lang_indexed.head(2)"
   ]
  },
  {
   "cell_type": "code",
   "execution_count": 17,
   "metadata": {},
   "outputs": [
    {
     "data": {
      "text/plain": [
       "Index(['count'], dtype='object')"
      ]
     },
     "execution_count": 17,
     "metadata": {},
     "output_type": "execute_result"
    }
   ],
   "source": [
    "# Check type of data for the column count\n",
    "\n",
    "covid_tweets_lang_indexed.columns"
   ]
  },
  {
   "cell_type": "code",
   "execution_count": 18,
   "metadata": {
    "collapsed": true
   },
   "outputs": [],
   "source": [
    "# Transform counts from string to integer\n",
    "\n",
    "covid_tweets_lang_indexed[\"count\"] = covid_tweets_lang_indexed[\"count\"].astype(int) "
   ]
  },
  {
   "cell_type": "code",
   "execution_count": 19,
   "metadata": {},
   "outputs": [
    {
     "data": {
      "text/plain": [
       "53"
      ]
     },
     "execution_count": 19,
     "metadata": {},
     "output_type": "execute_result"
    }
   ],
   "source": [
    "# Check the length of the dataframe, meaning the number of different languages\n",
    "\n",
    "len(covid_tweets_lang_indexed)"
   ]
  },
  {
   "cell_type": "markdown",
   "metadata": {},
   "source": [
    "Since it is not possible to represent 53 languages in on bar plot I apply a threshold.\n",
    "\n",
    "That means that if a language is used more than 50 times, it will be considered for the analysis.\n"
   ]
  },
  {
   "cell_type": "code",
   "execution_count": 20,
   "metadata": {
    "collapsed": true
   },
   "outputs": [],
   "source": [
    "covid_tweets_lang_indexed_fifty = covid_tweets_lang_indexed[covid_tweets_lang_indexed[\"count\"] > 50]"
   ]
  },
  {
   "cell_type": "code",
   "execution_count": 21,
   "metadata": {},
   "outputs": [
    {
     "data": {
      "text/plain": [
       "<matplotlib.figure.Figure at 0x7f8b2c02efd0>"
      ]
     },
     "metadata": {},
     "output_type": "display_data"
    },
    {
     "data": {
      "image/png": "[encoded data removed]",
      "text/plain": [
       "<matplotlib.figure.Figure at 0x7f8b2bfd6278>"
      ]
     },
     "metadata": {},
     "output_type": "display_data"
    }
   ],
   "source": [
    "# Here I plot the count of the languages that appear more then 50 times\n",
    "\n",
    "%matplotlib inline\n",
    "\n",
    "plt.figure(figsize=(50, 25), dpi=50, \n",
    "                 facecolor='w', edgecolor='k')\n",
    "\n",
    "plt.rc('grid', linestyle=\"-\", color='black', alpha = 1)\n",
    "\n",
    "covid_tweets_lang_indexed_fifty.plot(kind='bar', fontsize = 15, width=1, color = \"y\")\n",
    "\n",
    "plt.show()"
   ]
  },
  {
   "cell_type": "markdown",
   "metadata": {},
   "source": [
    "* I Plot the number of tweets per minute, from the minute of the first to the minute of the last tweet that was collected."
   ]
  },
  {
   "cell_type": "code",
   "execution_count": 22,
   "metadata": {
    "collapsed": true
   },
   "outputs": [],
   "source": [
    "# Add a column called item for each tweet\n",
    "\n",
    "covid_tweets['item'] = 1"
   ]
  },
  {
   "cell_type": "code",
   "execution_count": 23,
   "metadata": {
    "collapsed": true,
    "scrolled": true
   },
   "outputs": [],
   "source": [
    "# Index the dataframe according to the datetime is has been created\n",
    "\n",
    "covid_tweets_item = covid_tweets\n",
    "covid_tweets_item_indexed = covid_tweets_item.set_index('created_at')"
   ]
  },
  {
   "cell_type": "code",
   "execution_count": 24,
   "metadata": {
    "collapsed": true,
    "scrolled": true
   },
   "outputs": [],
   "source": [
    "# Resample the data per minute, summing up the number of tweets per minute\n",
    "\n",
    "covid_tweets_item_indexed_per_minute = covid_tweets_item_indexed['item'].resample('1T').sum()"
   ]
  },
  {
   "cell_type": "code",
   "execution_count": 25,
   "metadata": {},
   "outputs": [
    {
     "data": {
      "image/png": "[encoded data removed]",
      "text/plain": [
       "<matplotlib.figure.Figure at 0x7f8b2beb4048>"
      ]
     },
     "metadata": {},
     "output_type": "display_data"
    }
   ],
   "source": [
    "# Here we plot the number of tweets per minute\n",
    "\n",
    "%matplotlib inline\n",
    "\n",
    "plt.figure(figsize=(50, 25), dpi=50, facecolor='w', edgecolor='k')\n",
    "\n",
    "plt.rc('grid', linestyle=\"-\", color='black', alpha = 1)\n",
    "\n",
    "plt.xlabel('Time', fontsize=40)\n",
    "plt.ylabel('Number of tweets', fontsize=40)\n",
    "\n",
    "covid_tweets_item_indexed_per_minute.plot(kind='bar', fontsize = 40, width=0.7, color = \"c\")\n",
    "\n",
    "plt.show()"
   ]
  },
  {
   "cell_type": "markdown",
   "metadata": {},
   "source": [
    "* I plot the number of tweets per minute for the 3 most frequently mentioned places."
   ]
  },
  {
   "cell_type": "code",
   "execution_count": 26,
   "metadata": {
    "collapsed": true
   },
   "outputs": [],
   "source": [
    "# Create a dataframe with the frequency of the mentioned places and sort it descending\n",
    "\n",
    "covid_tweets_top_three = covid_tweets_item_indexed.groupby(['location']).size().to_frame('count').astype(int).reset_index()"
   ]
  },
  {
   "cell_type": "code",
   "execution_count": 27,
   "metadata": {},
   "outputs": [
    {
     "data": {
      "text/html": [
       "<div>\n",
       "<table border=\"1\" class=\"dataframe\">\n",
       "  <thead>\n",
       "    <tr style=\"text-align: right;\">\n",
       "      <th></th>\n",
       "      <th>location</th>\n",
       "      <th>count</th>\n",
       "    </tr>\n",
       "  </thead>\n",
       "  <tbody>\n",
       "    <tr>\n",
       "      <th>6200</th>\n",
       "      <td>Malaysia</td>\n",
       "      <td>646</td>\n",
       "    </tr>\n",
       "    <tr>\n",
       "      <th>10246</th>\n",
       "      <td>United States</td>\n",
       "      <td>352</td>\n",
       "    </tr>\n",
       "    <tr>\n",
       "      <th>5510</th>\n",
       "      <td>Lagos, Nigeria</td>\n",
       "      <td>318</td>\n",
       "    </tr>\n",
       "  </tbody>\n",
       "</table>\n",
       "</div>"
      ],
      "text/plain": [
       "             location  count\n",
       "6200         Malaysia    646\n",
       "10246   United States    352\n",
       "5510   Lagos, Nigeria    318"
      ]
     },
     "execution_count": 27,
     "metadata": {},
     "output_type": "execute_result"
    }
   ],
   "source": [
    "# Sort the dataframe in descending order\n",
    "\n",
    "covid_tweets_top_three_sorted = covid_tweets_top_three.sort_values(by=['count'], ascending=False)\n",
    "covid_tweets_top_three_sorted.head(3)"
   ]
  },
  {
   "cell_type": "code",
   "execution_count": 28,
   "metadata": {},
   "outputs": [
    {
     "name": "stdout",
     "output_type": "stream",
     "text": [
      "Malaysia it the #1 most frequently used locations\n"
     ]
    }
   ],
   "source": [
    "# Save to a variable the top one most frequently used locations\n",
    "\n",
    "location_top_one = covid_tweets_top_three_sorted.iloc[0, 0]\n",
    "print(location_top_one, \"it the #1 most frequently used locations\")"
   ]
  },
  {
   "cell_type": "code",
   "execution_count": 29,
   "metadata": {},
   "outputs": [
    {
     "name": "stdout",
     "output_type": "stream",
     "text": [
      "United States it the #2 most frequently used locations\n"
     ]
    }
   ],
   "source": [
    "# Save to a variable the top two most frequently used locations\n",
    "\n",
    "location_top_two = covid_tweets_top_three_sorted.iloc[1, 0]\n",
    "print(location_top_two, \"it the #2 most frequently used locations\")"
   ]
  },
  {
   "cell_type": "code",
   "execution_count": 30,
   "metadata": {},
   "outputs": [
    {
     "name": "stdout",
     "output_type": "stream",
     "text": [
      "Lagos, Nigeria it the #3 most frequently used locations\n"
     ]
    }
   ],
   "source": [
    "# Save to a variable the top three most frequently used locations\n",
    "\n",
    "location_top_three = covid_tweets_top_three_sorted.iloc[2, 0]\n",
    "print(location_top_three, \"it the #3 most frequently used locations\")"
   ]
  },
  {
   "cell_type": "code",
   "execution_count": 31,
   "metadata": {
    "collapsed": true
   },
   "outputs": [],
   "source": [
    "# Now I subset the dataframe to include only the top three cities\n",
    "\n",
    "covid_tweets_top_three_subset_one = covid_tweets_item_indexed[covid_tweets_item_indexed[\"location\"]==location_top_one]\n",
    "covid_tweets_top_three_subset_two = covid_tweets_item_indexed[covid_tweets_item_indexed[\"location\"]==location_top_two]\n",
    "covid_tweets_top_three_subset_three = covid_tweets_item_indexed[covid_tweets_item_indexed[\"location\"]==location_top_three]"
   ]
  },
  {
   "cell_type": "code",
   "execution_count": 32,
   "metadata": {
    "collapsed": true
   },
   "outputs": [],
   "source": [
    "# Resample the data for #1 location per minute, summing up the number of tweets per minute\n",
    "\n",
    "tweet_top_one_minute = covid_tweets_top_three_subset_one['item'].resample('1T').sum()"
   ]
  },
  {
   "cell_type": "code",
   "execution_count": 33,
   "metadata": {
    "collapsed": true
   },
   "outputs": [],
   "source": [
    "# Resample the data for #2 location per minute, summing up the number of tweets per minute\n",
    "\n",
    "tweet_top_two_minute = covid_tweets_top_three_subset_two['item'].resample('1T').sum()"
   ]
  },
  {
   "cell_type": "code",
   "execution_count": 34,
   "metadata": {
    "collapsed": true
   },
   "outputs": [],
   "source": [
    "# Resample the data for #3 location per minute, summing up the number of tweets per minute\n",
    "\n",
    "tweet_top_three_minute = covid_tweets_top_three_subset_three['item'].resample('1T').sum()"
   ]
  },
  {
   "cell_type": "code",
   "execution_count": 35,
   "metadata": {
    "collapsed": true
   },
   "outputs": [],
   "source": [
    "# Create one dataframe with the number of tweets per location per minute\n",
    "\n",
    "tweet_top_min = pd.concat([tweet_top_one_minute, tweet_top_two_minute, tweet_top_three_minute], axis = 1)\n",
    "tweet_top_min.columns = [location_top_one,location_top_two,location_top_three]"
   ]
  },
  {
   "cell_type": "code",
   "execution_count": 36,
   "metadata": {
    "scrolled": true
   },
   "outputs": [
    {
     "data": {
      "image/png": "[encoded data removed]",
      "text/plain": [
       "<matplotlib.figure.Figure at 0x7f8b2be9d400>"
      ]
     },
     "metadata": {},
     "output_type": "display_data"
    }
   ],
   "source": [
    "# Plot the number of tweets per location per minute as in one bar per location\n",
    "\n",
    "%matplotlib inline\n",
    "\n",
    "fig, ax = plt.subplots(figsize=(10, 4), dpi=100, facecolor='w', edgecolor='k')\n",
    "tweet_top_min.plot(kind='bar', fontsize = 20, width=0.7, ax=ax)\n",
    "\n",
    "plt.show()"
   ]
  },
  {
   "cell_type": "markdown",
   "metadata": {},
   "source": [
    "## Filtering - Sentiment analysis\n",
    "* I assume that simple emoticons can capture the sentiment of a tweet."
   ]
  },
  {
   "cell_type": "markdown",
   "metadata": {},
   "source": [
    "* I create:\n",
    "    * one regular expression to detect positive emoticons: `:)`,`:D`, `XD` and \n",
    "    * one to detect negative emoticons: `:(`, `:'(`, `:((` in the tweets. \n",
    "\n",
    "I report the number of tweets with positive and the number of tweets with negative sentiment."
   ]
  },
  {
   "cell_type": "code",
   "execution_count": 37,
   "metadata": {
    "collapsed": true
   },
   "outputs": [],
   "source": [
    "# This is the regular expression to detect the positive emoticons: \n",
    "# :),:D, XD\n",
    "\n",
    "positive = r':[)]|:D|XD'\n",
    "regex_positive = re.compile(positive)"
   ]
  },
  {
   "cell_type": "code",
   "execution_count": 38,
   "metadata": {
    "collapsed": true
   },
   "outputs": [],
   "source": [
    "# This is the regular expression to detect the negative emoticons: \n",
    "# :(, :'(, :(( \n",
    "\n",
    "negative = r':[(]|:\\'[(]|:[(][(]'\n",
    "regex_negative = re.compile(negative)"
   ]
  },
  {
   "cell_type": "code",
   "execution_count": 39,
   "metadata": {},
   "outputs": [
    {
     "name": "stdout",
     "output_type": "stream",
     "text": [
      "65 tweet(s) have positive sentiment out of 50000\n"
     ]
    }
   ],
   "source": [
    "# Then we implement the function that calculates the count of tweets with positive sentiment \n",
    "\n",
    "positive_sen = 0\n",
    "for _, text in covid_tweets.text.iteritems():\n",
    "    if len(regex_positive.findall(text)) > 0:\n",
    "        positive_sen += 1\n",
    "    \n",
    "print(positive_sen, \"tweet(s) have positive sentiment out of\", len(covid_tweets))"
   ]
  },
  {
   "cell_type": "code",
   "execution_count": 40,
   "metadata": {},
   "outputs": [
    {
     "name": "stdout",
     "output_type": "stream",
     "text": [
      "27 tweet(s) have negative sentiment out of 50000\n"
     ]
    }
   ],
   "source": [
    "# Then we implement the function that calculates the count of tweets with negative sentiment \n",
    "\n",
    "negative_sen = 0\n",
    "for _, text in covid_tweets.text.iteritems():\n",
    "    if len(regex_negative.findall(text)) > 0:\n",
    "        negative_sen += 1\n",
    "    \n",
    "print(negative_sen, \"tweet(s) have negative sentiment out of\", len(covid_tweets))"
   ]
  },
  {
   "cell_type": "markdown",
   "metadata": {},
   "source": [
    "* I plot the number of tweets with positive and the number of tweets with negative sentiment per minute."
   ]
  },
  {
   "cell_type": "code",
   "execution_count": 41,
   "metadata": {
    "collapsed": true
   },
   "outputs": [],
   "source": [
    "# I produce a list that has 0 if no positive emoticon is found\n",
    "# and 1 if there is a positive emoticon.\n",
    "# The length of the list equals that of the initial dataframe.\n",
    "\n",
    "positive_sen_list = []\n",
    "for _, text in covid_tweets_item_indexed.text.iteritems():\n",
    "    has_positive = 0\n",
    "    if len(regex_positive.findall(text)) > 0:\n",
    "        has_positive = 1\n",
    "    positive_sen_list.append(has_positive)"
   ]
  },
  {
   "cell_type": "code",
   "execution_count": 42,
   "metadata": {
    "collapsed": true
   },
   "outputs": [],
   "source": [
    "# I add this list to the initial dataframe\n",
    "\n",
    "covid_tweets_item_indexed[\"positive_sentiment\"] = positive_sen_list"
   ]
  },
  {
   "cell_type": "code",
   "execution_count": 43,
   "metadata": {
    "collapsed": true
   },
   "outputs": [],
   "source": [
    "# I resample the dataframe summing up the number of positive tweets per minute\n",
    "\n",
    "tweets_positive_minute = covid_tweets_item_indexed[\"positive_sentiment\"].resample('1T').sum()"
   ]
  },
  {
   "cell_type": "code",
   "execution_count": 44,
   "metadata": {
    "collapsed": true
   },
   "outputs": [],
   "source": [
    "# I produce a list that has 0 if no negative emoticon is found\n",
    "# and 1 if there is a negative emoticon.\n",
    "# The length of the list equals that of the initial dataframe.\n",
    "\n",
    "negative_sen_list = []\n",
    "for _, text in covid_tweets_item_indexed.text.iteritems():\n",
    "    has_negative = 0\n",
    "    if len(regex_negative.findall(text)) > 0:\n",
    "        has_negative = 1\n",
    "    negative_sen_list.append(has_negative)"
   ]
  },
  {
   "cell_type": "code",
   "execution_count": 45,
   "metadata": {
    "collapsed": true
   },
   "outputs": [],
   "source": [
    "# I add this list to the initial dataframe\n",
    "\n",
    "covid_tweets_item_indexed[\"negative_sentiment\"] = positive_sen_list"
   ]
  },
  {
   "cell_type": "code",
   "execution_count": 46,
   "metadata": {
    "collapsed": true
   },
   "outputs": [],
   "source": [
    "# I resample the dataframe summing up the number of positive tweets per minute\n",
    "\n",
    "tweets_negative_minute = covid_tweets_item_indexed[\"negative_sentiment\"].resample('1T').sum()"
   ]
  },
  {
   "cell_type": "code",
   "execution_count": 47,
   "metadata": {
    "collapsed": true
   },
   "outputs": [],
   "source": [
    "# Create one dataframe with the number of tweets with negative \n",
    "# and positive per minute\n",
    "\n",
    "tweet_sentiments = pd.concat([tweets_positive_minute, tweets_negative_minute], axis = 1)\n",
    "tweet_sentiments.columns = [\"positive\",\"negative\"]"
   ]
  },
  {
   "cell_type": "code",
   "execution_count": 48,
   "metadata": {},
   "outputs": [
    {
     "data": {
      "image/png": "[encoded data removed]",
      "text/plain": [
       "<matplotlib.figure.Figure at 0x7f8b2bd325f8>"
      ]
     },
     "metadata": {},
     "output_type": "display_data"
    }
   ],
   "source": [
    "# Plot the number of tweets with negative and positive per minute\n",
    "\n",
    "%matplotlib inline\n",
    "\n",
    "fig, ax = plt.subplots(figsize=(10, 4), dpi=90, facecolor='w', edgecolor='k')\n",
    "tweet_sentiments.plot(kind='bar', fontsize = 20, width=0.7, ax=ax)\n",
    "\n",
    "plt.show()"
   ]
  },
  {
   "cell_type": "markdown",
   "metadata": {},
   "source": [
    "## Text pre-processing\n",
    "I use regular expressions to remove:\n",
    "* Punctuation\n",
    "* Digits\n",
    "* New line characters\n",
    "* URL links\n",
    "* References to users: `@user`\n",
    "* Hashtags"
   ]
  },
  {
   "cell_type": "markdown",
   "metadata": {},
   "source": [
    "**I construct the regular expression.**\n",
    "Step-by-step would be:\n",
    "\n",
    "* Punctuation\n",
    "\n",
    "<code>r'([^\\w\\s])'</code>\n",
    "\n",
    "* Digits\n",
    "\n",
    "<code>r'(\\d)'</code>\n",
    "\n",
    "* New line characters\n",
    "\n",
    "<code>r'(\\n)'</code>\n",
    "\n",
    "* URL links\n",
    "\n",
    "<code>r'(https://t[.]co/[a-zA-Z0-9]+\\?)'</code>\n",
    "\n",
    "* References to users: `@user`\n",
    "\n",
    "<code>r'(@[0-9a-zA-Z_\\-.]+)'</code>\n",
    "\n",
    "* Hashtags\n",
    "\n",
    "<code>r'(#)'</code>\n"
   ]
  },
  {
   "cell_type": "markdown",
   "metadata": {},
   "source": [
    "**This gets defined in one regex as following:**"
   ]
  },
  {
   "cell_type": "code",
   "execution_count": 49,
   "metadata": {
    "collapsed": true
   },
   "outputs": [],
   "source": [
    "regex = '(https://t[.]co/[a-zA-Z0-9]+\\?)|(#)|(@[0-9a-zA-Z_\\-.]+)|(\\n)|(\\d)|([^\\w\\s])'"
   ]
  },
  {
   "cell_type": "code",
   "execution_count": 50,
   "metadata": {
    "scrolled": false
   },
   "outputs": [
    {
     "data": {
      "text/html": [
       "<div>\n",
       "<table border=\"1\" class=\"dataframe\">\n",
       "  <thead>\n",
       "    <tr style=\"text-align: right;\">\n",
       "      <th></th>\n",
       "      <th>place</th>\n",
       "      <th>lang</th>\n",
       "      <th>text</th>\n",
       "      <th>screen_name</th>\n",
       "      <th>followers_count</th>\n",
       "      <th>statuses_count</th>\n",
       "      <th>location</th>\n",
       "      <th>item</th>\n",
       "      <th>positive_sentiment</th>\n",
       "      <th>negative_sentiment</th>\n",
       "      <th>clean_text</th>\n",
       "    </tr>\n",
       "    <tr>\n",
       "      <th>created_at</th>\n",
       "      <th></th>\n",
       "      <th></th>\n",
       "      <th></th>\n",
       "      <th></th>\n",
       "      <th></th>\n",
       "      <th></th>\n",
       "      <th></th>\n",
       "      <th></th>\n",
       "      <th></th>\n",
       "      <th></th>\n",
       "      <th></th>\n",
       "    </tr>\n",
       "  </thead>\n",
       "  <tbody>\n",
       "    <tr>\n",
       "      <th>2020-10-25 10:13:43</th>\n",
       "      <td>NaN</td>\n",
       "      <td>en</td>\n",
       "      <td>RT @WIONews: The movie, which was supposed to ...</td>\n",
       "      <td>rjgms</td>\n",
       "      <td>298</td>\n",
       "      <td>44470</td>\n",
       "      <td>Valencia, Mangalore</td>\n",
       "      <td>1</td>\n",
       "      <td>0</td>\n",
       "      <td>0</td>\n",
       "      <td>RT  The movie which was supposed to be release...</td>\n",
       "    </tr>\n",
       "    <tr>\n",
       "      <th>2020-10-25 10:13:43</th>\n",
       "      <td>NaN</td>\n",
       "      <td>en</td>\n",
       "      <td>RT @PamelaFalk: U.S. sets single-day record wi...</td>\n",
       "      <td>UCLGlobCitProg</td>\n",
       "      <td>1851</td>\n",
       "      <td>4404</td>\n",
       "      <td>UCL</td>\n",
       "      <td>1</td>\n",
       "      <td>0</td>\n",
       "      <td>0</td>\n",
       "      <td>RT  US sets singleday record with over  new co...</td>\n",
       "    </tr>\n",
       "  </tbody>\n",
       "</table>\n",
       "</div>"
      ],
      "text/plain": [
       "                    place lang  \\\n",
       "created_at                       \n",
       "2020-10-25 10:13:43   NaN   en   \n",
       "2020-10-25 10:13:43   NaN   en   \n",
       "\n",
       "                                                                  text  \\\n",
       "created_at                                                               \n",
       "2020-10-25 10:13:43  RT @WIONews: The movie, which was supposed to ...   \n",
       "2020-10-25 10:13:43  RT @PamelaFalk: U.S. sets single-day record wi...   \n",
       "\n",
       "                        screen_name  followers_count  statuses_count  \\\n",
       "created_at                                                             \n",
       "2020-10-25 10:13:43           rjgms              298           44470   \n",
       "2020-10-25 10:13:43  UCLGlobCitProg             1851            4404   \n",
       "\n",
       "                                location  item  positive_sentiment  \\\n",
       "created_at                                                           \n",
       "2020-10-25 10:13:43  Valencia, Mangalore     1                   0   \n",
       "2020-10-25 10:13:43                  UCL     1                   0   \n",
       "\n",
       "                     negative_sentiment  \\\n",
       "created_at                                \n",
       "2020-10-25 10:13:43                   0   \n",
       "2020-10-25 10:13:43                   0   \n",
       "\n",
       "                                                            clean_text  \n",
       "created_at                                                              \n",
       "2020-10-25 10:13:43  RT  The movie which was supposed to be release...  \n",
       "2020-10-25 10:13:43  RT  US sets singleday record with over  new co...  "
      ]
     },
     "execution_count": 50,
     "metadata": {},
     "output_type": "execute_result"
    }
   ],
   "source": [
    "# Remove all elements mentioned above from the column text\n",
    "# Store it to a new column called clean_text\n",
    "\n",
    "covid_tweets_item_indexed[\"clean_text\"] = covid_tweets_item_indexed.text.str.replace(regex, \"\")\n",
    "covid_tweets_item_indexed.head(2)"
   ]
  }
 ],
 "metadata": {
  "kernelspec": {
   "display_name": "Python 3",
   "language": "python",
   "name": "python3"
  },
  "language_info": {
   "codemirror_mode": {
    "name": "ipython",
    "version": 3
   },
   "file_extension": ".py",
   "mimetype": "text/x-python",
   "name": "python",
   "nbconvert_exporter": "python",
   "pygments_lexer": "ipython3",
   "version": "3.8.6"
  }
 },
 "nbformat": 4,
 "nbformat_minor": 2
}
